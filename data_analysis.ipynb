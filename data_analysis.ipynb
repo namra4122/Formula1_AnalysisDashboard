{
 "cells": [
  {
   "cell_type": "code",
   "execution_count": 217,
   "metadata": {},
   "outputs": [],
   "source": [
    "import pandas as pd\n",
    "import numpy as np\n",
    "import matplotlib.pyplot as plt\n",
    "import seaborn as sns\n",
    "import fastf1\n",
    "\n",
    "from fastf1 import core,ergast,events,livetiming,plotting"
   ]
  },
  {
   "cell_type": "code",
   "execution_count": 218,
   "metadata": {},
   "outputs": [],
   "source": [
    "year  = int(input(\"Enter F1 Season: \"))\n",
    "season_data = fastf1.get_event_schedule(year,include_testing=False)\n",
    "season_data.drop(['Session1Date','Session2Date','Session3Date','Session4Date','Session5Date','F1ApiSupport'],axis=1,inplace=True)\n",
    "# season_data"
   ]
  },
  {
   "cell_type": "code",
   "execution_count": 219,
   "metadata": {},
   "outputs": [
    {
     "name": "stderr",
     "output_type": "stream",
     "text": [
      "core           INFO \tLoading data for Miami Grand Prix - Race [v3.0.6]\n",
      "req            INFO \tUsing cached data for driver_info\n",
      "req            INFO \tUsing cached data for session_status_data\n",
      "req            INFO \tUsing cached data for lap_count\n",
      "req            INFO \tUsing cached data for track_status_data\n",
      "req            INFO \tUsing cached data for timing_data\n",
      "req            INFO \tUsing cached data for timing_app_data\n",
      "core           INFO \tProcessing timing data...\n",
      "req            INFO \tUsing cached data for car_data\n",
      "req            INFO \tUsing cached data for position_data\n",
      "req            INFO \tUsing cached data for weather_data\n",
      "req            INFO \tUsing cached data for race_control_messages\n",
      "core           INFO \tFinished loading data for 20 drivers: ['1', '11', '14', '63', '55', '44', '16', '10', '31', '20', '22', '18', '77', '23', '27', '24', '4', '21', '81', '2']\n"
     ]
    }
   ],
   "source": [
    "round = int(input(\"Enter Round No.\"))\n",
    "session = input(\"Enter Session: \\n Pracrice 1: FP1, Pracrice 2: FP2, Pracrice 3: FP3, Sprint: S, Sprint-Shootout: SS, Qualifying : Q, Race: R \")\n",
    "\n",
    "race_data = fastf1.get_session(year, round, identifier=session)\n",
    "race_data.load(laps=True, telemetry=True, weather=True, messages=True, livedata=None)"
   ]
  },
  {
   "cell_type": "code",
   "execution_count": 220,
   "metadata": {},
   "outputs": [
    {
     "name": "stderr",
     "output_type": "stream",
     "text": [
      "C:\\Users\\namra\\AppData\\Local\\Temp\\ipykernel_13880\\1618052319.py:2: SettingWithCopyWarning: \n",
      "A value is trying to be set on a copy of a slice from a DataFrame\n",
      "\n",
      "See the caveats in the documentation: https://pandas.pydata.org/pandas-docs/stable/user_guide/indexing.html#returning-a-view-versus-a-copy\n",
      "  podium.drop(['BroadcastName','DriverId','TeamColor','TeamId','FirstName','LastName','CountryCode','ClassifiedPosition','Q1','Q2','Q3','HeadshotUrl'],axis=1,inplace=True)\n"
     ]
    }
   ],
   "source": [
    "podium = race_data.results[:3]\n",
    "podium.drop(['BroadcastName','DriverId','TeamColor','TeamId','FirstName','LastName','CountryCode','ClassifiedPosition','Q1','Q2','Q3','HeadshotUrl'],axis=1,inplace=True)\n",
    "# podium"
   ]
  },
  {
   "cell_type": "code",
   "execution_count": 221,
   "metadata": {},
   "outputs": [
    {
     "name": "stdout",
     "output_type": "stream",
     "text": [
      "Fastest Lap Driver: VER\n",
      "Fastest Driver Team: Red Bull Racing\n",
      "Fastest Driver Position: 1.0\n",
      "Fastest LapTime: 0 days 00:01:29.708000\n",
      "Fastest LapNumber: 56.0\n",
      "\t Fastest Sector 1: 0 days 00:00:30.233000\n",
      "\t Fastest Sector 2: 0 days 00:00:34.098000\n",
      "\t Fastest Sector 3: 0 days 00:00:25.377000\n"
     ]
    }
   ],
   "source": [
    "fast_lap = race_data.laps.pick_fastest()\n",
    "\n",
    "print(f\"Fastest Lap Driver: {fast_lap['Driver']}\")\n",
    "print(f\"Fastest Driver Team: {fast_lap['Team']}\")\n",
    "print(f\"Fastest Driver Position: {fast_lap['Position']}\")\n",
    "print(f\"Fastest LapTime: {fast_lap['LapTime']}\")\n",
    "print(f\"Fastest LapNumber: {fast_lap['LapNumber']}\")\n",
    "print(f\"\\t Fastest Sector 1: {fast_lap['Sector1Time']}\")\n",
    "print(f\"\\t Fastest Sector 2: {fast_lap['Sector2Time']}\")\n",
    "print(f\"\\t Fastest Sector 3: {fast_lap['Sector3Time']}\")"
   ]
  },
  {
   "cell_type": "code",
   "execution_count": 229,
   "metadata": {},
   "outputs": [
    {
     "data": {
      "text/plain": [
       "[           driverId  stop  lap      time               duration\n",
       " 0          sargeant     1    2  15:37:09 0 days 00:00:48.938000\n",
       " 1            norris     1    4  15:40:18 0 days 00:00:24.090000\n",
       " 2           piastri     1    5  15:41:49 0 days 00:00:22.205000\n",
       " 3   kevin_magnussen     1   14  15:55:45 0 days 00:00:22.616000\n",
       " 4             gasly     1   15  15:57:16 0 days 00:00:22.417000\n",
       " 5            bottas     1   15  15:57:23 0 days 00:00:23.158000\n",
       " 6          de_vries     1   15  15:57:33 0 days 00:00:23.487000\n",
       " 7           russell     1   17  16:00:18 0 days 00:00:22.335000\n",
       " 8           leclerc     1   17  16:00:25 0 days 00:00:22.068000\n",
       " 9             sainz     1   18  16:01:46 0 days 00:00:22.278000\n",
       " 10            perez     1   20  16:04:48 0 days 00:00:21.884000\n",
       " 11            albon     1   22  16:08:22 0 days 00:00:22.482000\n",
       " 12           alonso     1   24  16:11:02 0 days 00:00:22.631000\n",
       " 13             zhou     1   31  16:22:27 0 days 00:00:22.796000\n",
       " 14       hulkenberg     1   33  16:25:26 0 days 00:00:23.120000\n",
       " 15          tsunoda     1   36  16:30:01 0 days 00:00:22.390000\n",
       " 16         hamilton     1   37  16:31:29 0 days 00:00:22.150000\n",
       " 17             ocon     1   39  16:34:33 0 days 00:00:21.942000\n",
       " 18           stroll     1   42  16:39:18 0 days 00:00:22.651000\n",
       " 19   max_verstappen     1   45  16:42:58 0 days 00:00:22.688000]"
      ]
     },
     "execution_count": 229,
     "metadata": {},
     "output_type": "execute_result"
    }
   ],
   "source": [
    "ergast = Ergast()\n",
    "ergast.get_pit_stops(year,round).content"
   ]
  },
  {
   "cell_type": "code",
   "execution_count": null,
   "metadata": {},
   "outputs": [],
   "source": []
  },
  {
   "cell_type": "code",
   "execution_count": null,
   "metadata": {},
   "outputs": [],
   "source": []
  },
  {
   "cell_type": "code",
   "execution_count": null,
   "metadata": {},
   "outputs": [],
   "source": []
  }
 ],
 "metadata": {
  "kernelspec": {
   "display_name": "Python 3 (ipykernel)",
   "language": "python",
   "name": "python3"
  },
  "language_info": {
   "codemirror_mode": {
    "name": "ipython",
    "version": 3
   },
   "file_extension": ".py",
   "mimetype": "text/x-python",
   "name": "python",
   "nbconvert_exporter": "python",
   "pygments_lexer": "ipython3",
   "version": "3.10.5"
  }
 },
 "nbformat": 4,
 "nbformat_minor": 2
}
