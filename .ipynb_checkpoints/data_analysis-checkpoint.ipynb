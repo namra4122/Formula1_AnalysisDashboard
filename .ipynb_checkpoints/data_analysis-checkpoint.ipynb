{
 "cells": [
  {
   "cell_type": "code",
   "execution_count": 4,
   "metadata": {},
   "outputs": [],
   "source": [
    "import pandas as pd\n",
    "import numpy as np\n",
    "import matplotlib.pyplot as plt\n",
    "import seaborn as sns\n",
    "import fastf1\n",
    "\n",
    "from fastf1 import core,ergast,events,livetiming,plotting"
   ]
  },
  {
   "cell_type": "code",
   "execution_count": 5,
   "metadata": {},
   "outputs": [
    {
     "name": "stdout",
     "output_type": "stream",
     "text": [
      "Enter F1 Season: 2023\n"
     ]
    }
   ],
   "source": [
    "year  = int(input(\"Enter F1 Season: \"))\n",
    "season_data = fastf1.get_event_schedule(year,include_testing=False)\n",
    "season_data.drop(['Session1Date','Session2Date','Session3Date','Session4Date','Session5Date','F1ApiSupport'],axis=1,inplace=True)\n",
    "# season_data"
   ]
  },
  {
   "cell_type": "code",
   "execution_count": 6,
   "metadata": {},
   "outputs": [
    {
     "name": "stdout",
     "output_type": "stream",
     "text": [
      "Enter Round No.Monaco\n"
     ]
    },
    {
     "ename": "ValueError",
     "evalue": "invalid literal for int() with base 10: 'Monaco'",
     "output_type": "error",
     "traceback": [
      "\u001b[1;31m---------------------------------------------------------------------------\u001b[0m",
      "\u001b[1;31mValueError\u001b[0m                                Traceback (most recent call last)",
      "Cell \u001b[1;32mIn[6], line 1\u001b[0m\n\u001b[1;32m----> 1\u001b[0m \u001b[38;5;28mround\u001b[39m \u001b[38;5;241m=\u001b[39m \u001b[38;5;28;43mint\u001b[39;49m\u001b[43m(\u001b[49m\u001b[38;5;28;43minput\u001b[39;49m\u001b[43m(\u001b[49m\u001b[38;5;124;43m\"\u001b[39;49m\u001b[38;5;124;43mEnter Round No.\u001b[39;49m\u001b[38;5;124;43m\"\u001b[39;49m\u001b[43m)\u001b[49m\u001b[43m)\u001b[49m\n\u001b[0;32m      2\u001b[0m session \u001b[38;5;241m=\u001b[39m \u001b[38;5;28minput\u001b[39m(\u001b[38;5;124m\"\u001b[39m\u001b[38;5;124mEnter Session: \u001b[39m\u001b[38;5;130;01m\\n\u001b[39;00m\u001b[38;5;124m Pracrice 1: FP1, Pracrice 2: FP2, Pracrice 3: FP3, Sprint: S, Sprint-Shootout: SS, Qualifying : Q, Race: R \u001b[39m\u001b[38;5;124m\"\u001b[39m)\n\u001b[0;32m      4\u001b[0m race_data \u001b[38;5;241m=\u001b[39m fastf1\u001b[38;5;241m.\u001b[39mget_session(year, \u001b[38;5;28mround\u001b[39m, identifier\u001b[38;5;241m=\u001b[39msession)\n",
      "\u001b[1;31mValueError\u001b[0m: invalid literal for int() with base 10: 'Monaco'"
     ]
    }
   ],
   "source": [
    "round = input(\"Enter Round No.\")\n",
    "session = input(\"Enter Session: \\n Pracrice 1: FP1, Pracrice 2: FP2, Pracrice 3: FP3, Sprint: S, Sprint-Shootout: SS, Qualifying : Q, Race: R \")\n",
    "\n",
    "race_data = fastf1.get_session(year, round, identifier=session)\n",
    "race_data.load(laps=True, telemetry=True, weather=True, messages=True, livedata=None)"
   ]
  },
  {
   "cell_type": "code",
   "execution_count": null,
   "metadata": {},
   "outputs": [],
   "source": [
    "podium = race_data.results[:3]\n",
    "podium.drop(['BroadcastName','DriverId','TeamColor','TeamId','FirstName','LastName','CountryCode','ClassifiedPosition','Q1','Q2','Q3','HeadshotUrl'],axis=1,inplace=True)\n",
    "# podium"
   ]
  },
  {
   "cell_type": "code",
   "execution_count": null,
   "metadata": {},
   "outputs": [],
   "source": [
    "fast_lap = race_data.laps.pick_fastest()\n",
    "\n",
    "print(f\"Fastest Lap Driver: {fast_lap['Driver']}\")\n",
    "print(f\"Fastest Driver Team: {fast_lap['Team']}\")\n",
    "print(f\"Fastest Driver Position: {fast_lap['Position']}\")\n",
    "print(f\"Fastest LapTime: {fast_lap['LapTime']}\")\n",
    "print(f\"Fastest LapNumber: {fast_lap['LapNumber']}\")\n",
    "print(f\"\\t Fastest Sector 1: {fast_lap['Sector1Time']}\")\n",
    "print(f\"\\t Fastest Sector 2: {fast_lap['Sector2Time']}\")\n",
    "print(f\"\\t Fastest Sector 3: {fast_lap['Sector3Time']}\")"
   ]
  },
  {
   "cell_type": "code",
   "execution_count": null,
   "metadata": {},
   "outputs": [],
   "source": [
    "from fastf1.ergast import Ergast\n",
    "\n",
    "ergast = Ergast()\n",
    "pit_data = pd.DataFrame(ergast.get_pit_stops(year,round).content[0][['driverId','lap','duration']])"
   ]
  },
  {
   "cell_type": "code",
   "execution_count": null,
   "metadata": {},
   "outputs": [],
   "source": [
    "pit_data"
   ]
  },
  {
   "cell_type": "code",
   "execution_count": null,
   "metadata": {},
   "outputs": [],
   "source": [
    "type(pit_data['duration'][0])"
   ]
  },
  {
   "cell_type": "code",
   "execution_count": null,
   "metadata": {},
   "outputs": [],
   "source": []
  }
 ],
 "metadata": {
  "kernelspec": {
   "display_name": "Python 3 (ipykernel)",
   "language": "python",
   "name": "python3"
  },
  "language_info": {
   "codemirror_mode": {
    "name": "ipython",
    "version": 3
   },
   "file_extension": ".py",
   "mimetype": "text/x-python",
   "name": "python",
   "nbconvert_exporter": "python",
   "pygments_lexer": "ipython3",
   "version": "3.10.5"
  }
 },
 "nbformat": 4,
 "nbformat_minor": 2
}
